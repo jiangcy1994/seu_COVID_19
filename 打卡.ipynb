{
 "cells": [
  {
   "cell_type": "markdown",
   "metadata": {},
   "source": [
    "# 打卡"
   ]
  },
  {
   "cell_type": "markdown",
   "metadata": {},
   "source": [
    "## Import"
   ]
  },
  {
   "cell_type": "code",
   "execution_count": null,
   "metadata": {},
   "outputs": [],
   "source": [
    "import time\n",
    "import json\n",
    "from selenium import webdriver\n",
    "from selenium.webdriver.common.by import By\n",
    "from selenium.webdriver.common.action_chains import ActionChains\n",
    "from selenium.webdriver.support import expected_conditions\n",
    "from selenium.webdriver.support.wait import WebDriverWait\n",
    "from selenium.webdriver.common.keys import Keys\n",
    "from selenium.webdriver.common.desired_capabilities import DesiredCapabilities\n",
    "import time"
   ]
  },
  {
   "cell_type": "markdown",
   "metadata": {},
   "source": [
    "## Settings"
   ]
  },
  {
   "cell_type": "code",
   "execution_count": null,
   "metadata": {},
   "outputs": [],
   "source": [
    "username=\"{用户名}\"\n",
    "password=\"{密码}\""
   ]
  },
  {
   "cell_type": "markdown",
   "metadata": {},
   "source": [
    "## Functions"
   ]
  },
  {
   "cell_type": "code",
   "execution_count": null,
   "metadata": {},
   "outputs": [],
   "source": [
    "def wait_for_window(timeout = 2):\n",
    "    time.sleep(round(timeout / 1000))\n",
    "    wh_now = driver.window_handles\n",
    "    wh_then = vars[\"window_handles\"]\n",
    "    if len(wh_now) > len(wh_then):\n",
    "        return set(wh_now).difference(set(wh_then)).pop()"
   ]
  },
  {
   "cell_type": "markdown",
   "metadata": {},
   "source": [
    "## Program"
   ]
  },
  {
   "cell_type": "code",
   "execution_count": null,
   "metadata": {},
   "outputs": [],
   "source": [
    "driver = webdriver.Chrome()\n",
    "vars = {}\n",
    "driver.get(\"http://ehall.seu.edu.cn/new/index.html\")\n",
    "driver.set_window_size(855, 473)\n",
    "driver.find_element(By.CSS_SELECTOR, \".amp-no-login-zh\").click()\n",
    "driver.find_element(By.ID, \"username\").send_keys(username)\n",
    "driver.find_element(By.ID, \"password\").send_keys(password)\n",
    "driver.find_element(By.ID, \"xsfw\").click()\n",
    "driver.get(\"http://ehall.seu.edu.cn/qljfwapp/sys/lwReportEpidemicStu/index.do\")\n",
    "time.sleep(30)\n",
    "driver.find_element(By.CSS_SELECTOR, \".bh-mb-16 > .bh-btn\").click()\n",
    "driver.find_element(By.ID, \"save\").click()\n",
    "driver.find_element(By.LINK_TEXT, \"确认\").click()\n",
    "driver.quit()"
   ]
  }
 ],
 "metadata": {
  "kernelspec": {
   "display_name": "Python 3",
   "language": "python",
   "name": "python3"
  },
  "language_info": {
   "codemirror_mode": {
    "name": "ipython",
    "version": 3
   },
   "file_extension": ".py",
   "mimetype": "text/x-python",
   "name": "python",
   "nbconvert_exporter": "python",
   "pygments_lexer": "ipython3",
   "version": "3.7.4"
  }
 },
 "nbformat": 4,
 "nbformat_minor": 2
}
